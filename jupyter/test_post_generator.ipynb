{
 "cells": [
  {
   "cell_type": "markdown",
   "metadata": {},
   "source": [
    "Make some random idents to write to file"
   ]
  },
  {
   "cell_type": "code",
   "execution_count": 44,
   "metadata": {},
   "outputs": [],
   "source": [
    "import json\n",
    "from random import randint\n",
    "from string import ascii_letters\n",
    "\n",
    "max_chars = 130\n",
    "n_samples = 15\n",
    "\n",
    "# Generate numbers\n",
    "numbers = ''.join(str(d) for d in range(10))\n",
    "allowed = ascii_letters + numbers + ';:_-=+~'\n",
    "\n",
    "def fill_args(ident):\n",
    "    \"Create IGSN registration for a given ident\"\n",
    "    return {\n",
    "        'igsn': ident,\n",
    "        'url': f'https://testing.igsn.org/igsn/{ident}',\n",
    "        'registrant': 'test_framework'\n",
    "    }\n",
    "\n",
    "# Generate IDs\n",
    "ids = [fill_args(''.join([allowed[randint(0, len(allowed) - 1)] \n",
    "                          for _ in range(randint(3, max_chars))]))\n",
    "       for _ in range(n_samples)]\n",
    "with open('test_igsn_post_samples.json', 'w') as sink:\n",
    "    json.dump(ids, sink)"
   ]
  },
  {
   "cell_type": "code",
   "execution_count": 42,
   "metadata": {},
   "outputs": [],
   "source": [
    "for ident in ids:\n",
    "    if ident['igsn'] == '':\n",
    "        print(ident)\n",
    "    "
   ]
  },
  {
   "cell_type": "code",
   "execution_count": null,
   "metadata": {},
   "outputs": [],
   "source": []
  }
 ],
 "metadata": {
  "kernelspec": {
   "display_name": "Python 3",
   "language": "python",
   "name": "python3"
  },
  "language_info": {
   "codemirror_mode": {
    "name": "ipython",
    "version": 3
   },
   "file_extension": ".py",
   "mimetype": "text/x-python",
   "name": "python",
   "nbconvert_exporter": "python",
   "pygments_lexer": "ipython3",
   "version": "3.6.8"
  }
 },
 "nbformat": 4,
 "nbformat_minor": 2
}
