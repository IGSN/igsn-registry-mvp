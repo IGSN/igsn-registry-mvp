{
 "cells": [
  {
   "cell_type": "code",
   "execution_count": 2,
   "metadata": {},
   "outputs": [],
   "source": [
    "import moto\n",
    "import boto3"
   ]
  },
  {
   "cell_type": "markdown",
   "metadata": {},
   "source": [
    "The formatting for tables is pretty verbose - better to have this in its own file"
   ]
  },
  {
   "cell_type": "code",
   "execution_count": 34,
   "metadata": {},
   "outputs": [
    {
     "name": "stdout",
     "output_type": "stream",
     "text": [
      "Overwriting dynamodb_table_format.json\n"
     ]
    }
   ],
   "source": [
    "%%file dynamodb_table_format.json\n",
    "{\n",
    "  \"TableName\": \"foobar\",\n",
    "  \"AttributeDefinitions\": [\n",
    "    {\n",
    "      \"AttributeName\": \"Artist\",\n",
    "      \"AttributeType\": \"S\"\n",
    "    },\n",
    "    {\n",
    "      \"AttributeName\": \"SongTitle\",\n",
    "      \"AttributeType\": \"S\"\n",
    "    }\n",
    "  ],\n",
    "  \"KeySchema\": [\n",
    "    {\n",
    "      \"AttributeName\": \"Artist\",\n",
    "      \"KeyType\": \"HASH\"\n",
    "    },\n",
    "    {\n",
    "      \"AttributeName\": \"SongTitle\",\n",
    "      \"KeyType\": \"RANGE\"\n",
    "    }\n",
    "  ],\n",
    "  \"BillingMode\": \"PAY_PER_REQUEST\",\n",
    "  \"Tags\": [\n",
    "    {\n",
    "      \"Key\": \"environment\",\n",
    "      \"Value\": \"test\"\n",
    "    }\n",
    "  ]\n",
    "}"
   ]
  },
  {
   "cell_type": "markdown",
   "metadata": {},
   "source": [
    "Let's make a mock table and push some stuff into it"
   ]
  },
  {
   "cell_type": "code",
   "execution_count": 39,
   "metadata": {},
   "outputs": [
    {
     "name": "stdout",
     "output_type": "stream",
     "text": [
      "dynamodb.Table(name='foobar')\n",
      "[dynamodb.Table(name='foobar')]\n"
     ]
    }
   ],
   "source": [
    "import json\n",
    "\n",
    "with open('dynamodb_table_format.json', 'r') as src:\n",
    "    table_fmt = json.load(src)\n",
    "\n",
    "with moto.mock_dynamodb2():\n",
    "    dynamodb = boto3.resource(\"dynamodb\")\n",
    "    table = dynamodb.create_table(**table_fmt)\n",
    "    print(table)\n",
    "    print(list(dynamodb.tables.all()))"
   ]
  },
  {
   "cell_type": "code",
   "execution_count": null,
   "metadata": {},
   "outputs": [],
   "source": []
  }
 ],
 "metadata": {
  "kernelspec": {
   "display_name": "igsn-registry-mvp",
   "language": "python",
   "name": "igsn-registry-mvp"
  },
  "language_info": {
   "codemirror_mode": {
    "name": "ipython",
    "version": 3
   },
   "file_extension": ".py",
   "mimetype": "text/x-python",
   "name": "python",
   "nbconvert_exporter": "python",
   "pygments_lexer": "ipython3",
   "version": "3.6.8"
  }
 },
 "nbformat": 4,
 "nbformat_minor": 2
}
